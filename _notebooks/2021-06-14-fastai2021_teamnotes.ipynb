{
 "cells": [
  {
   "cell_type": "markdown",
   "id": "5adfb079",
   "metadata": {},
   "source": [
    "## Sound Projects."
   ]
  },
  {
   "cell_type": "markdown",
   "id": "6018fd95",
   "metadata": {},
   "source": [
    "QLDAI FastAI course 2021 (part 1) - study group. The study group is divided into in-person and remote. Whilst working through the material we divide into teams to work on a project of interest from amongst the approved datasets.  \n",
    "\n",
    "This page is for gathering resources for our team project."
   ]
  },
  {
   "cell_type": "markdown",
   "id": "8c6f061c",
   "metadata": {},
   "source": [
    "### Comp Page ###\n",
    "Rainforest Connection Kaggle https://www.kaggle.com/c/rfcx-species-audio-detection/overview\n",
    "\n",
    "Teams spreadsheet\n",
    "https://docs.google.com/spreadsheets/d/1rJwU2XkxhBzDufIY7rvWP4pC2yGT456UcjErlTcJUd0/edit?pli=1#gid=801993863"
   ]
  },
  {
   "cell_type": "markdown",
   "id": "8cd96c33",
   "metadata": {},
   "source": [
    "#### Resources ####\n",
    "\n",
    "Think DSP https://github.com/AllenDowney/ThinkDSP\n",
    "\n",
    "WalkwithFastai Audio https://walkwithfastai.com/Audio\n",
    "\n",
    "Nuts & Bolts of Sound Feature Engineering. https://www.kaggle.com/allohvk/the-nuts-and-bolts-of-sound-feature-engineering"
   ]
  },
  {
   "cell_type": "code",
   "execution_count": null,
   "id": "f0a7e0a0",
   "metadata": {},
   "outputs": [],
   "source": []
  }
 ],
 "metadata": {
  "kernelspec": {
   "display_name": "Python 3",
   "language": "python",
   "name": "python3"
  },
  "language_info": {
   "codemirror_mode": {
    "name": "ipython",
    "version": 3
   },
   "file_extension": ".py",
   "mimetype": "text/x-python",
   "name": "python",
   "nbconvert_exporter": "python",
   "pygments_lexer": "ipython3",
   "version": "3.8.5"
  }
 },
 "nbformat": 4,
 "nbformat_minor": 5
}
