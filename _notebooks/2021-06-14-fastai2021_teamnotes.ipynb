{
 "cells": [
  {
   "cell_type": "markdown",
   "id": "9d6bd72f",
   "metadata": {},
   "source": [
    "# QLDAI FastAI course 2021 (part 1) - study group.\n",
    ">  The study group is divided into in-person and remote. Whilst working through the material we divide into teams to work on a project of interest from amongst the approved datasets.\n",
    "This page is for gathering resources for our team project.\n",
    "\n",
    "- toc:false- branch: master\n",
    "- badges: false\n",
    "- comments: false\n",
    "- author: Allen Kamp\n",
    "- categories: [fastai, qldai]"
   ]
  },
  {
   "cell_type": "markdown",
   "id": "38edf6c3",
   "metadata": {},
   "source": [
    "  This page is for gathering resources for our team project."
   ]
  },
  {
   "cell_type": "markdown",
   "id": "b8d0091a",
   "metadata": {},
   "source": [
    "### Comp Page ###\n",
    "Rainforest Connection Kaggle https://www.kaggle.com/c/rfcx-species-audio-detection/overview\n",
    "\n",
    "Teams spreadsheet\n",
    "https://docs.google.com/spreadsheets/d/1rJwU2XkxhBzDufIY7rvWP4pC2yGT456UcjErlTcJUd0/edit?pli=1#gid=801993863"
   ]
  },
  {
   "cell_type": "markdown",
   "id": "8cd96c33",
   "metadata": {},
   "source": [
    "#### Resources ####\n",
    "\n",
    "Think DSP https://github.com/AllenDowney/ThinkDSP\n",
    "\n",
    "WalkwithFastai Audio https://walkwithfastai.com/Audio\n",
    "\n",
    "Nuts & Bolts of Sound Feature Engineering. https://www.kaggle.com/allohvk/the-nuts-and-bolts-of-sound-feature-engineering\n",
    "\n",
    "Fast Audio https://github.com/fastaudio/fastaudio\n",
    "\n",
    "Fast Audio Colab Demo https://colab.research.google.com/github/fastaudio/fastaudio/blob/master/docs/ESC50:%20Environmental%20Sound%20Classification.ipynb"
   ]
  },
  {
   "cell_type": "code",
   "execution_count": null,
   "id": "fa08a7e0",
   "metadata": {},
   "outputs": [],
   "source": []
  }
 ],
 "metadata": {
  "kernelspec": {
   "display_name": "Python 3",
   "language": "python",
   "name": "python3"
  },
  "language_info": {
   "codemirror_mode": {
    "name": "ipython",
    "version": 3
   },
   "file_extension": ".py",
   "mimetype": "text/x-python",
   "name": "python",
   "nbconvert_exporter": "python",
   "pygments_lexer": "ipython3",
   "version": "3.8.5"
  }
 },
 "nbformat": 4,
 "nbformat_minor": 5
}
